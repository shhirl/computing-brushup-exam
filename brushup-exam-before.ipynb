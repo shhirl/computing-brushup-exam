{
 "cells": [
  {
   "cell_type": "code",
   "execution_count": 3,
   "metadata": {
    "autoscroll": false,
    "ein.tags": "worksheet-0",
    "slideshow": {
     "slide_type": "-"
    }
   },
   "outputs": [
    {
     "name": "stdout",
     "output_type": "stream",
     "text": [
      "The rpy2.ipython extension is already loaded. To reload it, use:\n",
      "  %reload_ext rpy2.ipython\n"
     ]
    }
   ],
   "source": [
    "%load_ext rpy2.ipython\n",
    "#this lets us load an extension.\n",
    "#called rpy2\n",
    "#this loads it\n",
    "#then once we've loaded it, we can\n"
   ]
  },
  {
   "cell_type": "markdown",
   "metadata": {
    "ein.tags": "worksheet-0",
    "slideshow": {
     "slide_type": "-"
    }
   },
   "source": [
    "# Problem 1: The Command Line\n",
    "\n",
    "SSH into your instance. \n",
    "get this dataset online 2018_padro_nacionalitat_per_sexe.csv \n",
    "on the download buttom, right click, copy link location\n",
    "then in terminal\n",
    "wget https://......\n",
    "\n",
    "we now have this new csv in our folder\n",
    "\n"
   ]
  },
  {
   "cell_type": "markdown",
   "metadata": {
    "ein.tags": "worksheet-0",
    "slideshow": {
     "slide_type": "-"
    }
   },
   "source": [
    "# Problem 2: Plotting in R"
   ]
  },
  {
   "cell_type": "code",
   "execution_count": 5,
   "metadata": {
    "autoscroll": false,
    "ein.tags": "worksheet-0",
    "slideshow": {
     "slide_type": "-"
    }
   },
   "outputs": [
    {
     "name": "stderr",
     "output_type": "stream",
     "text": [
      "/opt/conda/lib/python3.7/site-packages/rpy2/rinterface/__init__.py:146: RRuntimeWarning: ── Attaching packages ─────────────────────────────────────── tidyverse 1.2.1 ──\n",
      "\n",
      "  warnings.warn(x, RRuntimeWarning)\n",
      "/opt/conda/lib/python3.7/site-packages/rpy2/rinterface/__init__.py:146: RRuntimeWarning: ✔ ggplot2 3.2.1     ✔ purrr   0.3.2\n",
      "✔ tibble  2.1.3     ✔ dplyr   0.8.3\n",
      "✔ tidyr   0.8.3     ✔ stringr 1.4.0\n",
      "✔ readr   1.3.1     ✔ forcats 0.4.0\n",
      "\n",
      "  warnings.warn(x, RRuntimeWarning)\n",
      "/opt/conda/lib/python3.7/site-packages/rpy2/rinterface/__init__.py:146: RRuntimeWarning: ── Conflicts ────────────────────────────────────────── tidyverse_conflicts() ──\n",
      "✖ dplyr::filter() masks stats::filter()\n",
      "✖ dplyr::lag()    masks stats::lag()\n",
      "\n",
      "  warnings.warn(x, RRuntimeWarning)\n"
     ]
    }
   ],
   "source": [
    "%%R\n",
    "#% sign is called a magic function\n",
    "#double %% does it for the whole cell, just one % does it for one line\n",
    "#so %%R allows you to run this as R\n",
    "#and then further down we run python\n",
    "#note: this is a python notebook\n",
    "\n",
    "\n",
    "library(tidyverse)"
   ]
  },
  {
   "cell_type": "code",
   "execution_count": 8,
   "metadata": {
    "autoscroll": false,
    "ein.tags": "worksheet-0",
    "slideshow": {
     "slide_type": "-"
    }
   },
   "outputs": [
    {
     "data": {
      "text/plain": [
       "# A tibble: 7,446 x 8\n",
       "     Any Codi_Districte Nom_Districte Codi_Barri Nom_Barri Sexe  Nacionalitat\n",
       "   <dbl>          <dbl> <chr>              <dbl> <chr>     <chr> <chr>       \n",
       " 1  2018              1 Ciutat Vella           1 el Raval  Home  Espanya     \n",
       " 2  2018              1 Ciutat Vella           2 el Barri… Home  Espanya     \n",
       " 3  2018              1 Ciutat Vella           3 la Barce… Home  Espanya     \n",
       " 4  2018              1 Ciutat Vella           4 Sant Per… Home  Espanya     \n",
       " 5  2018              2 Eixample               5 el Fort … Home  Espanya     \n",
       " 6  2018              2 Eixample               6 la Sagra… Home  Espanya     \n",
       " 7  2018              2 Eixample               7 la Dreta… Home  Espanya     \n",
       " 8  2018              2 Eixample               8 l'Antiga… Home  Espanya     \n",
       " 9  2018              2 Eixample               9 la Nova … Home  Espanya     \n",
       "10  2018              2 Eixample              10 Sant Ant… Home  Espanya     \n",
       "# … with 7,436 more rows, and 1 more variable: Nombre <dbl>\n"
      ]
     },
     "metadata": {},
     "output_type": "display_data"
    }
   ],
   "source": [
    "%%R\n",
    "\n",
    "# Read the file '2018_padro_nacionalitat_per_sexe.csv' from the new location, using read_csv\n",
    "# put the resulting Tibble into a variable called 'barris'\n",
    "\n",
    "barris <- read_csv('2018_padro_nacionalitat_per_sexe.csv')\n",
    "barris"
   ]
  },
  {
   "cell_type": "code",
   "execution_count": null,
   "metadata": {
    "autoscroll": false,
    "ein.tags": "worksheet-0",
    "slideshow": {
     "slide_type": "-"
    }
   },
   "outputs": [],
   "source": [
    "%%R\n",
    "\n",
    "# Let's manually convert a few columns into factors. \n",
    "barris %>% mutate(Nom_Barri = parse_factor(Nom_Barri, NULL), \n",
    "                  Sexe = parse_factor(Sexe, NULL),\n",
    "                  Nacionalitat = parse_factor(Nacionalitat, NULL))\n",
    "\n",
    "# We want to explore the neighborhood referred to as 'el Poblenou', in the variable\n",
    "# 'Nom_Barri' (neighborhood name). We will take a look at the gender and nationality\n",
    "# of the non-Spanish population in this neighborhood. \n",
    "#\n",
    "# First, filter the data to only 'el Poblenou'\n",
    "# Second, remove the nationality 'Espanya'\n",
    "# Third, plot a horizontal bar chart of the population counted by 'Nacionalitat',\n",
    "# but only plot the most populous nationalities. Set a cutoff that looks right to you. \n",
    "#\n",
    "# Note: the number of each 'Sexe'/'Nacionalitat' combo is in the variable 'Nombre'\n",
    "# \n",
    "# Hint: group and count manually, and then use ggplot's geom_col and use coord_flip()\n",
    "# to make the chart horizontal\n",
    "#\n",
    "# Bonus: Display the gender ('Sexe') in different colors, via the \"fill\" property!"
   ]
  },
  {
   "cell_type": "markdown",
   "metadata": {
    "ein.tags": "worksheet-0",
    "slideshow": {
     "slide_type": "-"
    }
   },
   "source": [
    "# Problem 3: Classes in Python"
   ]
  },
  {
   "cell_type": "code",
   "execution_count": null,
   "metadata": {
    "autoscroll": false,
    "ein.tags": "worksheet-0",
    "slideshow": {
     "slide_type": "-"
    }
   },
   "outputs": [],
   "source": [
    "# Create a class called \"RandomClassifier\". \n",
    "\n",
    "# It's constructor should have one required parameter: 'probability'\n",
    "\n",
    "# It should have one instance method, 'predict'\n",
    "\n",
    "# The predict method should take one required parameter: 'x'\n",
    "\n",
    "# The predict method should then randomly return a 1 or 0. It should return a 1\n",
    "# with the probability given in the parameter\n",
    "\n",
    "# The following cell has a test that should pass if you've done it correctly!"
   ]
  },
  {
   "cell_type": "code",
   "execution_count": null,
   "metadata": {
    "autoscroll": false,
    "ein.tags": "worksheet-0",
    "slideshow": {
     "slide_type": "-"
    }
   },
   "outputs": [],
   "source": [
    "import numpy as np\n",
    "\n",
    "r = RandomClassifier(probability = .2)\n",
    "m = np.mean([r.predict(x = i) for i in np.arange(100000)])\n",
    "\n",
    "np.testing.assert_approx_equal(m, 0.2, 2)"
   ]
  },
  {
   "cell_type": "markdown",
   "metadata": {
    "ein.tags": "worksheet-0",
    "slideshow": {
     "slide_type": "-"
    }
   },
   "source": [
    "# Problem 4: Some Theory"
   ]
  },
  {
   "cell_type": "markdown",
   "metadata": {
    "ein.tags": "worksheet-0",
    "slideshow": {
     "slide_type": "-"
    }
   },
   "source": [
    "### What are pure functions and what are their strengths? (2-3 lines)"
   ]
  },
  {
   "cell_type": "markdown",
   "metadata": {
    "ein.tags": "worksheet-0",
    "slideshow": {
     "slide_type": "-"
    }
   },
   "source": []
  },
  {
   "cell_type": "markdown",
   "metadata": {
    "ein.tags": "worksheet-0",
    "slideshow": {
     "slide_type": "-"
    }
   },
   "source": [
    "### What is lazy evaluation and when might you use it? (2-3 lines)"
   ]
  },
  {
   "cell_type": "markdown",
   "metadata": {
    "ein.tags": "worksheet-0",
    "slideshow": {
     "slide_type": "-"
    }
   },
   "source": []
  }
 ],
 "metadata": {
  "kernelspec": {
   "display_name": "Python 3",
   "language": "python",
   "name": "python3"
  },
  "language_info": {
   "codemirror_mode": {
    "name": "ipython",
    "version": 3
   },
   "file_extension": ".py",
   "mimetype": "text/x-python",
   "name": "python",
   "nbconvert_exporter": "python",
   "pygments_lexer": "ipython3",
   "version": "3.7.3"
  },
  "name": "exam.ipynb"
 },
 "nbformat": 4,
 "nbformat_minor": 2
}
