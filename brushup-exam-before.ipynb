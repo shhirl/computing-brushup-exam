{
 "cells": [
  {
   "cell_type": "code",
   "execution_count": 58,
   "metadata": {},
   "outputs": [
    {
     "name": "stdout",
     "output_type": "stream",
     "text": [
      "\n",
      "Error in library(ggplot) : there is no package called ‘ggplot’\n"
     ]
    }
   ],
   "source": [
    "%%R\n",
    "library(ggplot)"
   ]
  },
  {
   "cell_type": "code",
   "execution_count": 3,
   "metadata": {
    "autoscroll": false,
    "ein.tags": "worksheet-0",
    "slideshow": {
     "slide_type": "-"
    }
   },
   "outputs": [
    {
     "name": "stdout",
     "output_type": "stream",
     "text": [
      "The rpy2.ipython extension is already loaded. To reload it, use:\n",
      "  %reload_ext rpy2.ipython\n"
     ]
    }
   ],
   "source": [
    "%load_ext rpy2.ipython\n",
    "#this lets us load an extension.\n",
    "#called rpy2\n",
    "#this loads it\n",
    "#then once we've loaded it, we can\n"
   ]
  },
  {
   "cell_type": "markdown",
   "metadata": {
    "ein.tags": "worksheet-0",
    "slideshow": {
     "slide_type": "-"
    }
   },
   "source": [
    "# Problem 1: The Command Line\n",
    "\n",
    "SSH into your instance. \n",
    "get this dataset online 2018_padro_nacionalitat_per_sexe.csv \n",
    "on the download buttom, right click, copy link location\n",
    "then in terminal\n",
    "wget https://......\n",
    "\n",
    "we now have this new csv in our folder\n",
    "\n"
   ]
  },
  {
   "cell_type": "markdown",
   "metadata": {
    "ein.tags": "worksheet-0",
    "slideshow": {
     "slide_type": "-"
    }
   },
   "source": [
    "# Problem 2: Plotting in R"
   ]
  },
  {
   "cell_type": "code",
   "execution_count": 34,
   "metadata": {
    "autoscroll": false,
    "ein.tags": "worksheet-0",
    "slideshow": {
     "slide_type": "-"
    }
   },
   "outputs": [],
   "source": [
    "%%R\n",
    "#% sign is called a magic function\n",
    "#double %% does it for the whole cell, just one % does it for one line\n",
    "#so %%R allows you to run this as R\n",
    "#and then further down we run python\n",
    "#note: this is a python notebook\n",
    "\n",
    "\n",
    "library(tidyverse)"
   ]
  },
  {
   "cell_type": "code",
   "execution_count": 35,
   "metadata": {
    "autoscroll": false,
    "ein.tags": "worksheet-0",
    "slideshow": {
     "slide_type": "-"
    }
   },
   "outputs": [
    {
     "data": {
      "text/plain": [
       "# A tibble: 7,446 x 8\n",
       "     Any Codi_Districte Nom_Districte Codi_Barri Nom_Barri Sexe  Nacionalitat\n",
       "   <dbl>          <dbl> <chr>              <dbl> <chr>     <chr> <chr>       \n",
       " 1  2018              1 Ciutat Vella           1 el Raval  Home  Espanya     \n",
       " 2  2018              1 Ciutat Vella           2 el Barri… Home  Espanya     \n",
       " 3  2018              1 Ciutat Vella           3 la Barce… Home  Espanya     \n",
       " 4  2018              1 Ciutat Vella           4 Sant Per… Home  Espanya     \n",
       " 5  2018              2 Eixample               5 el Fort … Home  Espanya     \n",
       " 6  2018              2 Eixample               6 la Sagra… Home  Espanya     \n",
       " 7  2018              2 Eixample               7 la Dreta… Home  Espanya     \n",
       " 8  2018              2 Eixample               8 l'Antiga… Home  Espanya     \n",
       " 9  2018              2 Eixample               9 la Nova … Home  Espanya     \n",
       "10  2018              2 Eixample              10 Sant Ant… Home  Espanya     \n",
       "# … with 7,436 more rows, and 1 more variable: Nombre <dbl>\n"
      ]
     },
     "metadata": {},
     "output_type": "display_data"
    }
   ],
   "source": [
    "%%R\n",
    "\n",
    "# Read the file '2018_padro_nacionalitat_per_sexe.csv' from the new location, using read_csv\n",
    "# put the resulting Tibble into a variable called 'barris'\n",
    "\n",
    "barris <- read_csv('2018_padro_nacionalitat_per_sexe.csv')\n",
    "barris"
   ]
  },
  {
   "cell_type": "markdown",
   "metadata": {},
   "source": [
    "below we are trying to make a horizontal bar chart\n"
   ]
  },
  {
   "cell_type": "code",
   "execution_count": 36,
   "metadata": {
    "autoscroll": false,
    "ein.tags": "worksheet-0",
    "slideshow": {
     "slide_type": "-"
    }
   },
   "outputs": [],
   "source": [
    "%%R\n",
    "\n",
    "# Let's manually convert a few columns into factors. \n",
    "n<- barris %>% mutate(Nom_Barri = parse_factor(Nom_Barri, NULL), \n",
    "                  Sexe = parse_factor(Sexe, NULL),\n",
    "                  Nacionalitat = parse_factor(Nacionalitat, NULL))\n",
    "\n",
    "# We want to explore the neighborhood referred to as 'el Poblenou', in the variable\n",
    "# 'Nom_Barri' (neighborhood name). We will take a look at the gender and nationality\n",
    "# of the non-Spanish population in this neighborhood. \n",
    "#\n",
    "# First, filter the data to only 'el Poblenou'\n",
    "# Second, remove the nationality 'Espanya'\n",
    "# Third, plot a horizontal bar chart of the population counted by 'Nacionalitat',\n",
    "# but only plot the most populous nationalities. Set a cutoff that looks right to you. \n",
    "#\n",
    "# Note: the number of each 'Sexe'/'Nacionalitat' combo is in the variable 'Nombre'\n",
    "# \n",
    "# Hint: group and count manually, and then use ggplot's geom_col and use coord_flip()\n",
    "# to make the chart horizontal\n",
    "#\n",
    "# Bonus: Display the gender ('Sexe') in different colors, via the \"fill\" property!"
   ]
  },
  {
   "cell_type": "code",
   "execution_count": 37,
   "metadata": {},
   "outputs": [
    {
     "data": {
      "text/plain": [
       "# A tibble: 7,446 x 8\n",
       "     Any Codi_Districte Nom_Districte Codi_Barri Nom_Barri Sexe  Nacionalitat\n",
       "   <dbl>          <dbl> <chr>              <dbl> <fct>     <fct> <fct>       \n",
       " 1  2018              1 Ciutat Vella           1 el Raval  Home  Espanya     \n",
       " 2  2018              1 Ciutat Vella           2 el Barri… Home  Espanya     \n",
       " 3  2018              1 Ciutat Vella           3 la Barce… Home  Espanya     \n",
       " 4  2018              1 Ciutat Vella           4 Sant Per… Home  Espanya     \n",
       " 5  2018              2 Eixample               5 el Fort … Home  Espanya     \n",
       " 6  2018              2 Eixample               6 la Sagra… Home  Espanya     \n",
       " 7  2018              2 Eixample               7 la Dreta… Home  Espanya     \n",
       " 8  2018              2 Eixample               8 l'Antiga… Home  Espanya     \n",
       " 9  2018              2 Eixample               9 la Nova … Home  Espanya     \n",
       "10  2018              2 Eixample              10 Sant Ant… Home  Espanya     \n",
       "# … with 7,436 more rows, and 1 more variable: Nombre <dbl>\n"
      ]
     },
     "metadata": {},
     "output_type": "display_data"
    }
   ],
   "source": [
    "%%R\n",
    "n"
   ]
  },
  {
   "cell_type": "code",
   "execution_count": 73,
   "metadata": {},
   "outputs": [
    {
     "data": {
      "text/plain": [
       "Observations: 7,446\n",
       "Variables: 8\n",
       "$ Any            <dbl> 2018, 2018, 2018, 2018, 2018, 2018, 2018, 2018, 2018, …\n",
       "$ Codi_Districte <dbl> 1, 1, 1, 1, 2, 2, 2, 2, 2, 2, 3, 3, 3, 3, 3, 3, 3, 3, …\n",
       "$ Nom_Districte  <chr> \"Ciutat Vella\", \"Ciutat Vella\", \"Ciutat Vella\", \"Ciuta…\n",
       "$ Codi_Barri     <dbl> 1, 2, 3, 4, 5, 6, 7, 8, 9, 10, 11, 12, 13, 14, 15, 16,…\n",
       "$ Nom_Barri      <fct> \"el Raval\", \"el Barri Gòtic\", \"la Barceloneta\", \"Sant …\n",
       "$ Sexe           <fct> Home, Home, Home, Home, Home, Home, Home, Home, Home, …\n",
       "$ Nacionalitat   <fct> Espanya, Espanya, Espanya, Espanya, Espanya, Espanya, …\n",
       "$ Nombre         <dbl> 11732, 4214, 4607, 6235, 11532, 18692, 15761, 15241, 2…\n"
      ]
     },
     "metadata": {},
     "output_type": "display_data"
    }
   ],
   "source": [
    "%%R\n",
    "\n",
    "#to have a look at all of the columns\n",
    "glimpse(n)"
   ]
  },
  {
   "cell_type": "code",
   "execution_count": 38,
   "metadata": {},
   "outputs": [
    {
     "data": {
      "text/plain": [
       "   [1] Home Home Home Home Home Home Home Home Home Home Home Home Home Home\n",
       "  [15] Home Home Home Home Home Home Home Home Home Home Home Home Home Home\n",
       "  [29] Home Home Home Home Home Home Home Home Home Home Home Home Home Home\n",
       "  [43] Home Home Home Home Home Home Home Home Home Home Home Home Home Home\n",
       "  [57] Home Home Home Home Home Home Home Home Home Home Home Home Home Home\n",
       "  [71] Home Home Home Home Home Home Home Home Home Home Home Home Home Home\n",
       "  [85] Home Home Home Home Home Home Home Home Home Home Home Home Home Home\n",
       "  [99] Home Home Home Home Home Home Home Home Home Home Home Home Home Home\n",
       " [113] Home Home Home Home Home Home Home Home Home Home Home Home Home Home\n",
       " [127] Home Home Home Home Home Home Home Home Home Home Home Home Home Home\n",
       " [141] Home Home Home Home Home Home Home Home Home Home Home Home Home Home\n",
       " [155] Home Home Home Home Home Home Home Home Home Home Home Home Home Home\n",
       " [169] Home Home Home Home Home Home Home Home Home Home Home Home Home Home\n",
       " [183] Home Home Home Home Home Home Home Home Home Home Home Home Home Home\n",
       " [197] Home Home Home Home Home Home Home Home Home Home Home Home Home Home\n",
       " [211] Home Home Home Home Home Home Home Home Home Home Home Home Home Home\n",
       " [225] Home Home Home Home Home Home Home Home Home Home Home Home Home Home\n",
       " [239] Home Home Home Home Home Home Home Home Home Home Home Home Home Home\n",
       " [253] Home Home Home Home Home Home Home Home Home Home Home Home Home Home\n",
       " [267] Home Home Home Home Home Home Home Home Home Home Home Home Home Home\n",
       " [281] Home Home Home Home Home Home Home Home Home Home Home Home Home Home\n",
       " [295] Home Home Home Home Home Home Home Home Home Home Home Home Home Home\n",
       " [309] Home Home Home Home Home Home Home Home Home Home Home Home Home Home\n",
       " [323] Home Home Home Home Home Home Home Home Home Home Home Home Home Home\n",
       " [337] Home Home Home Home Home Home Home Home Home Home Home Home Home Home\n",
       " [351] Home Home Home Home Home Home Home Home Home Home Home Home Home Home\n",
       " [365] Home Home Home Home Home Home Home Home Home Home Home Home Home Home\n",
       " [379] Home Home Home Home Home Home Home Home Home Home Home Home Home Home\n",
       " [393] Home Home Home Home Home Home Home Home Home Home Home Home Home Home\n",
       " [407] Home Home Home Home Home Home Home Home Home Home Home Home Home Home\n",
       " [421] Home Home Home Home Home Home Home Home Home Home Home Home Home Home\n",
       " [435] Home Home Home Home Home Home Home Home Home Home Home Home Home Home\n",
       " [449] Home Home Home Home Home Home Home Home Home Home Home Home Home Home\n",
       " [463] Home Home Home Home Home Home Home Home Home Home Home Home Home Home\n",
       " [477] Home Home Home Home Home Home Home Home Home Home Home Home Home Home\n",
       " [491] Home Home Home Home Home Home Home Home Home Home Home Home Home Home\n",
       " [505] Home Home Home Home Home Home Home Home Home Home Home Home Home Home\n",
       " [519] Home Home Home Home Home Home Home Home Home Home Home Home Home Home\n",
       " [533] Home Home Home Home Home Home Home Home Home Home Home Home Home Home\n",
       " [547] Home Home Home Home Home Home Home Home Home Home Home Home Home Home\n",
       " [561] Home Home Home Home Home Home Home Home Home Home Home Home Home Home\n",
       " [575] Home Home Home Home Home Home Home Home Home Home Home Home Home Home\n",
       " [589] Home Home Home Home Home Home Home Home Home Home Home Home Home Home\n",
       " [603] Home Home Home Home Home Home Home Home Home Home Home Home Home Home\n",
       " [617] Home Home Home Home Home Home Home Home Home Home Home Home Home Home\n",
       " [631] Home Home Home Home Home Home Home Home Home Home Home Home Home Home\n",
       " [645] Home Home Home Home Home Home Home Home Home Home Home Home Home Home\n",
       " [659] Home Home Home Home Home Home Home Home Home Home Home Home Home Home\n",
       " [673] Home Home Home Home Home Home Home Home Home Home Home Home Home Home\n",
       " [687] Home Home Home Home Home Home Home Home Home Home Home Home Home Home\n",
       " [701] Home Home Home Home Home Home Home Home Home Home Home Home Home Home\n",
       " [715] Home Home Home Home Home Home Home Home Home Home Home Home Home Home\n",
       " [729] Home Home Home Home Home Home Home Home Home Home Home Home Home Home\n",
       " [743] Home Home Home Home Home Home Home Home Home Home Home Home Home Home\n",
       " [757] Home Home Home Home Home Home Home Home Home Home Home Home Home Home\n",
       " [771] Home Home Home Home Home Home Home Home Home Home Home Home Home Home\n",
       " [785] Home Home Home Home Home Home Home Home Home Home Home Home Home Home\n",
       " [799] Home Home Home Home Home Home Home Home Home Home Home Home Home Home\n",
       " [813] Home Home Home Home Home Home Home Home Home Home Home Home Home Home\n",
       " [827] Home Home Home Home Home Home Home Home Home Home Home Home Home Home\n",
       " [841] Home Home Home Home Home Home Home Home Home Home Home Home Home Home\n",
       " [855] Home Home Home Home Home Home Home Home Home Home Home Home Home Home\n",
       " [869] Home Home Home Home Home Home Home Home Home Home Home Home Home Home\n",
       " [883] Home Home Home Home Home Home Home Home Home Home Home Home Home Home\n",
       " [897] Home Home Home Home Home Home Home Home Home Home Home Home Home Home\n",
       " [911] Home Home Home Home Home Home Home Home Home Home Home Home Home Home\n",
       " [925] Home Home Home Home Home Home Home Home Home Home Home Home Home Home\n",
       " [939] Home Home Home Home Home Home Home Home Home Home Home Home Home Home\n",
       " [953] Home Home Home Home Home Home Home Home Home Home Home Home Home Home\n",
       " [967] Home Home Home Home Home Home Home Home Home Home Home Home Home Home\n",
       " [981] Home Home Home Home Home Home Home Home Home Home Home Home Home Home\n",
       " [995] Home Home Home Home Home Home Home Home Home Home Home Home Home Home\n",
       "[1009] Home Home Home Home Home Home Home Home Home Home Home Home Home Home\n",
       "[1023] Home Home Home Home Home Home Home Home Home Home Home Home Home Home\n",
       "[1037] Home Home Home Home Home Home Home Home Home Home Home Home Home Home\n",
       "[1051] Home Home Home Home Home Home Home Home Home Home Home Home Home Home\n",
       "[1065] Home Home Home Home Home Home Home Home Home Home Home Home Home Home\n",
       "[1079] Home Home Home Home Home Home Home Home Home Home Home Home Home Home\n",
       "[1093] Home Home Home Home Home Home Home Home Home Home Home Home Home Home\n",
       "[1107] Home Home Home Home Home Home Home Home Home Home Home Home Home Home\n",
       "[1121] Home Home Home Home Home Home Home Home Home Home Home Home Home Home\n",
       "[1135] Home Home Home Home Home Home Home Home Home Home Home Home Home Home\n",
       "[1149] Home Home Home Home Home Home Home Home Home Home Home Home Home Home\n",
       "[1163] Home Home Home Home Home Home Home Home Home Home Home Home Home Home\n",
       "[1177] Home Home Home Home Home Home Home Home Home Home Home Home Home Home\n",
       "[1191] Home Home Home Home Home Home Home Home Home Home Home Home Home Home\n",
       "[1205] Home Home Home Home Home Home Home Home Home Home Home Home Home Home\n",
       "[1219] Home Home Home Home Home Home Home Home Home Home Home Home Home Home\n",
       "[1233] Home Home Home Home Home Home Home Home Home Home Home Home Home Home\n",
       "[1247] Home Home Home Home Home Home Home Home Home Home Home Home Home Home\n",
       "[1261] Home Home Home Home Home Home Home Home Home Home Home Home Home Home\n",
       "[1275] Home Home Home Home Home Home Home Home Home Home Home Home Home Home\n",
       "[1289] Home Home Home Home Home Home Home Home Home Home Home Home Home Home\n",
       "[1303] Home Home Home Home Home Home Home Home Home Home Home Home Home Home\n",
       "[1317] Home Home Home Home Home Home Home Home Home Home Home Home Home Home\n",
       "[1331] Home Home Home Home Home Home Home Home Home Home Home Home Home Home\n",
       "[1345] Home Home Home Home Home Home Home Home Home Home Home Home Home Home\n",
       "[1359] Home Home Home Home Home Home Home Home Home Home Home Home Home Home\n",
       "[1373] Home Home Home Home Home Home Home Home Home Home Home Home Home Home\n",
       "[1387] Home Home Home Home Home Home Home Home Home Home Home Home Home Home\n",
       "[1401] Home Home Home Home Home Home Home Home Home Home Home Home Home Home\n",
       "[1415] Home Home Home Home Home Home Home Home Home Home Home Home Home Home\n",
       "[1429] Home Home Home Home Home Home Home Home Home Home Home Home Home Home\n",
       "[1443] Home Home Home Home Home Home Home Home Home Home Home Home Home Home\n",
       "[1457] Home Home Home Home Home Home Home Home Home Home Home Home Home Home\n",
       "[1471] Home Home Home Home Home Home Home Home Home Home Home Home Home Home\n",
       "[1485] Home Home Home Home Home Home Home Home Home Home Home Home Home Home\n",
       "[1499] Home Home Home Home Home Home Home Home Home Home Home Home Home Home\n",
       "[1513] Home Home Home Home Home Home Home Home Home Home Home Home Home Home\n",
       "[1527] Home Home Home Home Home Home Home Home Home Home Home Home Home Home\n",
       "[1541] Home Home Home Home Home Home Home Home Home Home Home Home Home Home\n",
       "[1555] Home Home Home Home Home Home Home Home Home Home Home Home Home Home\n",
       "[1569] Home Home Home Home Home Home Home Home Home Home Home Home Home Home\n",
       "[1583] Home Home Home Home Home Home Home Home Home Home Home Home Home Home\n",
       "[1597] Home Home Home Home Home Home Home Home Home Home Home Home Home Home\n",
       "[1611] Home Home Home Home Home Home Home Home Home Home Home Home Home Home\n",
       "[1625] Home Home Home Home Home Home Home Home Home Home Home Home Home Home\n",
       "[1639] Home Home Home Home Home Home Home Home Home Home Home Home Home Home\n",
       "[1653] Home Home Home Home Home Home Home Home Home Home Home Home Home Home\n",
       "[1667] Home Home Home Home Home Home Home Home Home Home Home Home Home Home\n",
       "[1681] Home Home Home Home Home Home Home Home Home Home Home Home Home Home\n",
       "[1695] Home Home Home Home Home Home Home Home Home Home Home Home Home Home\n",
       "[1709] Home Home Home Home Home Home Home Home Home Home Home Home Home Home\n",
       "[1723] Home Home Home Home Home Home Home Home Home Home Home Home Home Home\n",
       "[1737] Home Home Home Home Home Home Home Home Home Home Home Home Home Home\n",
       "[1751] Home Home Home Home Home Home Home Home Home Home Home Home Home Home\n",
       "[1765] Home Home Home Home Home Home Home Home Home Home Home Home Home Home\n",
       "[1779] Home Home Home Home Home Home Home Home Home Home Home Home Home Home\n",
       "[1793] Home Home Home Home Home Home Home Home Home Home Home Home Home Home\n",
       "[1807] Home Home Home Home Home Home Home Home Home Home Home Home Home Home\n",
       "[1821] Home Home Home Home Home Home Home Home Home Home Home Home Home Home\n",
       "[1835] Home Home Home Home Home Home Home Home Home Home Home Home Home Home\n",
       "[1849] Home Home Home Home Home Home Home Home Home Home Home Home Home Home\n",
       "[1863] Home Home Home Home Home Home Home Home Home Home Home Home Home Home\n",
       "[1877] Home Home Home Home Home Home Home Home Home Home Home Home Home Home\n",
       "[1891] Home Home Home Home Home Home Home Home Home Home Home Home Home Home\n",
       "[1905] Home Home Home Home Home Home Home Home Home Home Home Home Home Home\n",
       "[1919] Home Home Home Home Home Home Home Home Home Home Home Home Home Home\n",
       "[1933] Home Home Home Home Home Home Home Home Home Home Home Home Home Home\n",
       "[1947] Home Home Home Home Home Home Home Home Home Home Home Home Home Home\n",
       "[1961] Home Home Home Home Home Home Home Home Home Home Home Home Home Home\n",
       "[1975] Home Home Home Home Home Home Home Home Home Home Home Home Home Home\n",
       "[1989] Home Home Home Home Home Home Home Home Home Home Home Home Home Home\n",
       "[2003] Home Home Home Home Home Home Home Home Home Home Home Home Home Home\n",
       "[2017] Home Home Home Home Home Home Home Home Home Home Home Home Home Home\n",
       "[2031] Home Home Home Home Home Home Home Home Home Home Home Home Home Home\n",
       "[2045] Home Home Home Home Home Home Home Home Home Home Home Home Home Home\n",
       "[2059] Home Home Home Home Home Home Home Home Home Home Home Home Home Home\n",
       "[2073] Home Home Home Home Home Home Home Home Home Home Home Home Home Home\n",
       "[2087] Home Home Home Home Home Home Home Home Home Home Home Home Home Home\n",
       "[2101] Home Home Home Home Home Home Home Home Home Home Home Home Home Home\n",
       "[2115] Home Home Home Home Home Home Home Home Home Home Home Home Home Home\n",
       "[2129] Home Home Home Home Home Home Home Home Home Home Home Home Home Home\n",
       "[2143] Home Home Home Home Home Home Home Home Home Home Home Home Home Home\n",
       "[2157] Home Home Home Home Home Home Home Home Home Home Home Home Home Home\n",
       "[2171] Home Home Home Home Home Home Home Home Home Home Home Home Home Home\n",
       "[2185] Home Home Home Home Home Home Home Home Home Home Home Home Home Home\n",
       "[2199] Home Home Home Home Home Home Home Home Home Home Home Home Home Home\n",
       "[2213] Home Home Home Home Home Home Home Home Home Home Home Home Home Home\n",
       "[2227] Home Home Home Home Home Home Home Home Home Home Home Home Home Home\n",
       "[2241] Home Home Home Home Home Home Home Home Home Home Home Home Home Home\n",
       "[2255] Home Home Home Home Home Home Home Home Home Home Home Home Home Home\n",
       "[2269] Home Home Home Home Home Home Home Home Home Home Home Home Home Home\n",
       "[2283] Home Home Home Home Home Home Home Home Home Home Home Home Home Home\n",
       "[2297] Home Home Home Home Home Home Home Home Home Home Home Home Home Home\n",
       "[2311] Home Home Home Home Home Home Home Home Home Home Home Home Home Home\n",
       "[2325] Home Home Home Home Home Home Home Home Home Home Home Home Home Home\n",
       "[2339] Home Home Home Home Home Home Home Home Home Home Home Home Home Home\n",
       "[2353] Home Home Home Home Home Home Home Home Home Home Home Home Home Home\n",
       "[2367] Home Home Home Home Home Home Home Home Home Home Home Home Home Home\n",
       "[2381] Home Home Home Home Home Home Home Home Home Home Home Home Home Home\n",
       "[2395] Home Home Home Home Home Home Home Home Home Home Home Home Home Home\n",
       "[2409] Home Home Home Home Home Home Home Home Home Home Home Home Home Home\n",
       "[2423] Home Home Home Home Home Home Home Home Home Home Home Home Home Home\n",
       "[2437] Home Home Home Home Home Home Home Home Home Home Home Home Home Home\n",
       "[2451] Home Home Home Home Home Home Home Home Home Home Home Home Home Home\n",
       "[2465] Home Home Home Home Home Home Home Home Home Home Home Home Home Home\n",
       "[2479] Home Home Home Home Home Home Home Home Home Home Home Home Home Home\n",
       "[2493] Home Home Home Home Home Home Home Home Home Home Home Home Home Home\n",
       "[2507] Home Home Home Home Home Home Home Home Home Home Home Home Home Home\n",
       "[2521] Home Home Home Home Home Home Home Home Home Home Home Home Home Home\n",
       "[2535] Home Home Home Home Home Home Home Home Home Home Home Home Home Home\n",
       "[2549] Home Home Home Home Home Home Home Home Home Home Home Home Home Home\n",
       "[2563] Home Home Home Home Home Home Home Home Home Home Home Home Home Home\n",
       "[2577] Home Home Home Home Home Home Home Home Home Home Home Home Home Home\n",
       "[2591] Home Home Home Home Home Home Home Home Home Home Home Home Home Home\n",
       "[2605] Home Home Home Home Home Home Home Home Home Home Home Home Home Home\n",
       "[2619] Home Home Home Home Home Home Home Home Home Home Home Home Home Home\n",
       "[2633] Home Home Home Home Home Home Home Home Home Home Home Home Home Home\n",
       "[2647] Home Home Home Home Home Home Home Home Home Home Home Home Home Home\n",
       "[2661] Home Home Home Home Home Home Home Home Home Home Home Home Home Home\n",
       "[2675] Home Home Home Home Home Home Home Home Home Home Home Home Home Home\n",
       "[2689] Home Home Home Home Home Home Home Home Home Home Home Home Home Home\n",
       "[2703] Home Home Home Home Home Home Home Home Home Home Home Home Home Home\n",
       "[2717] Home Home Home Home Home Home Home Home Home Home Home Home Home Home\n",
       "[2731] Home Home Home Home Home Home Home Home Home Home Home Home Home Home\n",
       "[2745] Home Home Home Home Home Home Home Home Home Home Home Home Home Home\n",
       "[2759] Home Home Home Home Home Home Home Home Home Home Home Home Home Home\n",
       "[2773] Home Home Home Home Home Home Home Home Home Home Home Home Home Home\n",
       "[2787] Home Home Home Home Home Home Home Home Home Home Home Home Home Home\n",
       "[2801] Home Home Home Home Home Home Home Home Home Home Home Home Home Home\n",
       "[2815] Home Home Home Home Home Home Home Home Home Home Home Home Home Home\n",
       "[2829] Home Home Home Home Home Home Home Home Home Home Home Home Home Home\n",
       "[2843] Home Home Home Home Home Home Home Home Home Home Home Home Home Home\n",
       "[2857] Home Home Home Home Home Home Home Home Home Home Home Home Home Home\n",
       "[2871] Home Home Home Home Home Home Home Home Home Home Home Home Home Home\n",
       "[2885] Home Home Home Home Home Home Home Home Home Home Home Home Home Home\n",
       "[2899] Home Home Home Home Home Home Home Home Home Home Home Home Home Home\n",
       "[2913] Home Home Home Home Home Home Home Home Home Home Home Home Home Home\n",
       "[2927] Home Home Home Home Home Home Home Home Home Home Home Home Home Home\n",
       "[2941] Home Home Home Home Home Home Home Home Home Home Home Home Home Home\n",
       "[2955] Home Home Home Home Home Home Home Home Home Home Home Home Home Home\n",
       "[2969] Home Home Home Home Home Home Home Home Home Home Home Home Home Home\n",
       "[2983] Home Home Home Home Home Home Home Home Home Home Home Home Home Home\n",
       "[2997] Home Home Home Home Home Home Home Home Home Home Home Home Home Home\n",
       "[3011] Home Home Home Home Home Home Home Home Home Home Home Home Home Home\n",
       "[3025] Home Home Home Home Home Home Home Home Home Home Home Home Home Home\n",
       "[3039] Home Home Home Home Home Home Home Home Home Home Home Home Home Home\n",
       "[3053] Home Home Home Home Home Home Home Home Home Home Home Home Home Home\n",
       "[3067] Home Home Home Home Home Home Home Home Home Home Home Home Home Home\n",
       "[3081] Home Home Home Home Home Home Home Home Home Home Home Home Home Home\n",
       "[3095] Home Home Home Home Home Home Home Home Home Home Home Home Home Home\n",
       "[3109] Home Home Home Home Home Home Home Home Home Home Home Home Home Home\n",
       "[3123] Home Home Home Home Home Home Home Home Home Home Home Home Home Home\n",
       "[3137] Home Home Home Home Home Home Home Home Home Home Home Home Home Home\n",
       "[3151] Home Home Home Home Home Home Home Home Home Home Home Home Home Home\n",
       "[3165] Home Home Home Home Home Home Home Home Home Home Home Home Home Home\n",
       "[3179] Home Home Home Home Home Home Home Home Home Home Home Home Home Home\n",
       "[3193] Home Home Home Home Home Home Home Home Home Home Home Home Home Home\n",
       "[3207] Home Home Home Home Home Home Home Home Home Home Home Home Home Home\n",
       "[3221] Home Home Home Home Home Home Home Home Home Home Home Home Home Home\n",
       "[3235] Home Home Home Home Home Home Home Home Home Home Home Home Home Home\n",
       "[3249] Home Home Home Home Home Home Home Home Home Home Home Home Home Home\n",
       "[3263] Home Home Home Home Home Home Home Home Home Home Home Home Home Home\n",
       "[3277] Home Home Home Home Home Home Home Home Home Home Home Home Home Home\n",
       "[3291] Home Home Home Home Home Home Home Home Home Home Home Home Home Home\n",
       "[3305] Home Home Home Home Home Home Home Home Home Home Home Home Home Home\n",
       "[3319] Home Home Home Home Home Home Home Home Home Home Home Home Home Home\n",
       "[3333] Home Home Home Home Home Home Home Home Home Home Home Home Home Home\n",
       "[3347] Home Home Home Home Home Home Home Home Home Home Home Home Home Home\n",
       "[3361] Home Home Home Home Home Home Home Home Home Home Home Home Home Home\n",
       "[3375] Home Home Home Home Home Home Home Home Home Home Home Home Home Home\n",
       "[3389] Home Home Home Home Home Home Home Home Home Home Home Home Home Home\n",
       "[3403] Home Home Home Home Home Home Home Home Home Home Home Home Home Home\n",
       "[3417] Home Home Home Home Home Home Home Home Home Home Home Home Home Home\n",
       "[3431] Home Home Home Home Home Home Home Home Home Home Home Home Home Home\n",
       "[3445] Home Home Home Home Home Home Home Home Home Home Home Home Home Home\n",
       "[3459] Home Home Home Home Home Home Home Home Home Home Home Home Home Home\n",
       "[3473] Home Home Home Home Home Home Home Home Home Home Home Home Home Home\n",
       "[3487] Home Home Home Home Home Home Home Home Home Home Home Home Home Home\n",
       "[3501] Home Home Home Home Home Home Home Home Home Home Home Home Home Home\n",
       "[3515] Home Home Home Home Home Home Home Home Home Home Home Home Home Home\n",
       "[3529] Home Home Home Home Home Home Home Home Home Home Home Home Home Home\n",
       "[3543] Home Home Home Home Home Home Home Home Home Home Home Home Home Home\n",
       "[3557] Home Home Home Home Home Home Home Home Home Home Home Home Home Home\n",
       "[3571] Home Home Home Home Home Home Home Home Home Home Home Home Home Home\n",
       "[3585] Home Home Home Home Home Home Home Home Home Home Home Home Home Home\n",
       "[3599] Home Home Home Home Home Home Home Home Home Home Home Home Home Home\n",
       "[3613] Home Home Home Home Home Home Home Home Home Home Home Home Home Home\n",
       "[3627] Home Home Home Home Home Home Home Home Home Home Home Home Home Home\n",
       "[3641] Home Home Home Home Home Home Home Home Home Home Home Home Home Home\n",
       "[3655] Home Home Home Home Home Home Home Home Home Home Home Home Home Home\n",
       "[3669] Home Home Home Home Home Home Home Home Home Home Home Home Home Home\n",
       "[3683] Home Home Home Home Home Home Home Home Home Home Home Home Home Home\n",
       "[3697] Home Home Home Home Home Home Home Home Home Home Home Home Home Home\n",
       "[3711] Home Home Home Home Home Home Home Home Home Home Home Home Home Dona\n",
       "[3725] Dona Dona Dona Dona Dona Dona Dona Dona Dona Dona Dona Dona Dona Dona\n",
       "[3739] Dona Dona Dona Dona Dona Dona Dona Dona Dona Dona Dona Dona Dona Dona\n",
       "[3753] Dona Dona Dona Dona Dona Dona Dona Dona Dona Dona Dona Dona Dona Dona\n",
       "[3767] Dona Dona Dona Dona Dona Dona Dona Dona Dona Dona Dona Dona Dona Dona\n",
       "[3781] Dona Dona Dona Dona Dona Dona Dona Dona Dona Dona Dona Dona Dona Dona\n",
       "[3795] Dona Dona Dona Dona Dona Dona Dona Dona Dona Dona Dona Dona Dona Dona\n",
       "[3809] Dona Dona Dona Dona Dona Dona Dona Dona Dona Dona Dona Dona Dona Dona\n",
       "[3823] Dona Dona Dona Dona Dona Dona Dona Dona Dona Dona Dona Dona Dona Dona\n",
       "[3837] Dona Dona Dona Dona Dona Dona Dona Dona Dona Dona Dona Dona Dona Dona\n",
       "[3851] Dona Dona Dona Dona Dona Dona Dona Dona Dona Dona Dona Dona Dona Dona\n",
       "[3865] Dona Dona Dona Dona Dona Dona Dona Dona Dona Dona Dona Dona Dona Dona\n",
       "[3879] Dona Dona Dona Dona Dona Dona Dona Dona Dona Dona Dona Dona Dona Dona\n",
       "[3893] Dona Dona Dona Dona Dona Dona Dona Dona Dona Dona Dona Dona Dona Dona\n",
       "[3907] Dona Dona Dona Dona Dona Dona Dona Dona Dona Dona Dona Dona Dona Dona\n",
       "[3921] Dona Dona Dona Dona Dona Dona Dona Dona Dona Dona Dona Dona Dona Dona\n",
       "[3935] Dona Dona Dona Dona Dona Dona Dona Dona Dona Dona Dona Dona Dona Dona\n",
       "[3949] Dona Dona Dona Dona Dona Dona Dona Dona Dona Dona Dona Dona Dona Dona\n",
       "[3963] Dona Dona Dona Dona Dona Dona Dona Dona Dona Dona Dona Dona Dona Dona\n",
       "[3977] Dona Dona Dona Dona Dona Dona Dona Dona Dona Dona Dona Dona Dona Dona\n",
       "[3991] Dona Dona Dona Dona Dona Dona Dona Dona Dona Dona Dona Dona Dona Dona\n",
       "[4005] Dona Dona Dona Dona Dona Dona Dona Dona Dona Dona Dona Dona Dona Dona\n",
       "[4019] Dona Dona Dona Dona Dona Dona Dona Dona Dona Dona Dona Dona Dona Dona\n",
       "[4033] Dona Dona Dona Dona Dona Dona Dona Dona Dona Dona Dona Dona Dona Dona\n",
       "[4047] Dona Dona Dona Dona Dona Dona Dona Dona Dona Dona Dona Dona Dona Dona\n",
       "[4061] Dona Dona Dona Dona Dona Dona Dona Dona Dona Dona Dona Dona Dona Dona\n",
       "[4075] Dona Dona Dona Dona Dona Dona Dona Dona Dona Dona Dona Dona Dona Dona\n",
       "[4089] Dona Dona Dona Dona Dona Dona Dona Dona Dona Dona Dona Dona Dona Dona\n",
       "[4103] Dona Dona Dona Dona Dona Dona Dona Dona Dona Dona Dona Dona Dona Dona\n",
       "[4117] Dona Dona Dona Dona Dona Dona Dona Dona Dona Dona Dona Dona Dona Dona\n",
       "[4131] Dona Dona Dona Dona Dona Dona Dona Dona Dona Dona Dona Dona Dona Dona\n",
       "[4145] Dona Dona Dona Dona Dona Dona Dona Dona Dona Dona Dona Dona Dona Dona\n",
       "[4159] Dona Dona Dona Dona Dona Dona Dona Dona Dona Dona Dona Dona Dona Dona\n",
       "[4173] Dona Dona Dona Dona Dona Dona Dona Dona Dona Dona Dona Dona Dona Dona\n",
       "[4187] Dona Dona Dona Dona Dona Dona Dona Dona Dona Dona Dona Dona Dona Dona\n",
       "[4201] Dona Dona Dona Dona Dona Dona Dona Dona Dona Dona Dona Dona Dona Dona\n",
       "[4215] Dona Dona Dona Dona Dona Dona Dona Dona Dona Dona Dona Dona Dona Dona\n",
       "[4229] Dona Dona Dona Dona Dona Dona Dona Dona Dona Dona Dona Dona Dona Dona\n",
       "[4243] Dona Dona Dona Dona Dona Dona Dona Dona Dona Dona Dona Dona Dona Dona\n",
       "[4257] Dona Dona Dona Dona Dona Dona Dona Dona Dona Dona Dona Dona Dona Dona\n",
       "[4271] Dona Dona Dona Dona Dona Dona Dona Dona Dona Dona Dona Dona Dona Dona\n",
       "[4285] Dona Dona Dona Dona Dona Dona Dona Dona Dona Dona Dona Dona Dona Dona\n",
       "[4299] Dona Dona Dona Dona Dona Dona Dona Dona Dona Dona Dona Dona Dona Dona\n",
       "[4313] Dona Dona Dona Dona Dona Dona Dona Dona Dona Dona Dona Dona Dona Dona\n",
       "[4327] Dona Dona Dona Dona Dona Dona Dona Dona Dona Dona Dona Dona Dona Dona\n",
       "[4341] Dona Dona Dona Dona Dona Dona Dona Dona Dona Dona Dona Dona Dona Dona\n",
       "[4355] Dona Dona Dona Dona Dona Dona Dona Dona Dona Dona Dona Dona Dona Dona\n",
       "[4369] Dona Dona Dona Dona Dona Dona Dona Dona Dona Dona Dona Dona Dona Dona\n",
       "[4383] Dona Dona Dona Dona Dona Dona Dona Dona Dona Dona Dona Dona Dona Dona\n",
       "[4397] Dona Dona Dona Dona Dona Dona Dona Dona Dona Dona Dona Dona Dona Dona\n",
       "[4411] Dona Dona Dona Dona Dona Dona Dona Dona Dona Dona Dona Dona Dona Dona\n",
       "[4425] Dona Dona Dona Dona Dona Dona Dona Dona Dona Dona Dona Dona Dona Dona\n",
       "[4439] Dona Dona Dona Dona Dona Dona Dona Dona Dona Dona Dona Dona Dona Dona\n",
       "[4453] Dona Dona Dona Dona Dona Dona Dona Dona Dona Dona Dona Dona Dona Dona\n",
       "[4467] Dona Dona Dona Dona Dona Dona Dona Dona Dona Dona Dona Dona Dona Dona\n",
       "[4481] Dona Dona Dona Dona Dona Dona Dona Dona Dona Dona Dona Dona Dona Dona\n",
       "[4495] Dona Dona Dona Dona Dona Dona Dona Dona Dona Dona Dona Dona Dona Dona\n",
       "[4509] Dona Dona Dona Dona Dona Dona Dona Dona Dona Dona Dona Dona Dona Dona\n",
       "[4523] Dona Dona Dona Dona Dona Dona Dona Dona Dona Dona Dona Dona Dona Dona\n",
       "[4537] Dona Dona Dona Dona Dona Dona Dona Dona Dona Dona Dona Dona Dona Dona\n",
       "[4551] Dona Dona Dona Dona Dona Dona Dona Dona Dona Dona Dona Dona Dona Dona\n",
       "[4565] Dona Dona Dona Dona Dona Dona Dona Dona Dona Dona Dona Dona Dona Dona\n",
       "[4579] Dona Dona Dona Dona Dona Dona Dona Dona Dona Dona Dona Dona Dona Dona\n",
       "[4593] Dona Dona Dona Dona Dona Dona Dona Dona Dona Dona Dona Dona Dona Dona\n",
       "[4607] Dona Dona Dona Dona Dona Dona Dona Dona Dona Dona Dona Dona Dona Dona\n",
       "[4621] Dona Dona Dona Dona Dona Dona Dona Dona Dona Dona Dona Dona Dona Dona\n",
       "[4635] Dona Dona Dona Dona Dona Dona Dona Dona Dona Dona Dona Dona Dona Dona\n",
       "[4649] Dona Dona Dona Dona Dona Dona Dona Dona Dona Dona Dona Dona Dona Dona\n",
       "[4663] Dona Dona Dona Dona Dona Dona Dona Dona Dona Dona Dona Dona Dona Dona\n",
       "[4677] Dona Dona Dona Dona Dona Dona Dona Dona Dona Dona Dona Dona Dona Dona\n",
       "[4691] Dona Dona Dona Dona Dona Dona Dona Dona Dona Dona Dona Dona Dona Dona\n",
       "[4705] Dona Dona Dona Dona Dona Dona Dona Dona Dona Dona Dona Dona Dona Dona\n",
       "[4719] Dona Dona Dona Dona Dona Dona Dona Dona Dona Dona Dona Dona Dona Dona\n",
       "[4733] Dona Dona Dona Dona Dona Dona Dona Dona Dona Dona Dona Dona Dona Dona\n",
       "[4747] Dona Dona Dona Dona Dona Dona Dona Dona Dona Dona Dona Dona Dona Dona\n",
       "[4761] Dona Dona Dona Dona Dona Dona Dona Dona Dona Dona Dona Dona Dona Dona\n",
       "[4775] Dona Dona Dona Dona Dona Dona Dona Dona Dona Dona Dona Dona Dona Dona\n",
       "[4789] Dona Dona Dona Dona Dona Dona Dona Dona Dona Dona Dona Dona Dona Dona\n",
       "[4803] Dona Dona Dona Dona Dona Dona Dona Dona Dona Dona Dona Dona Dona Dona\n",
       "[4817] Dona Dona Dona Dona Dona Dona Dona Dona Dona Dona Dona Dona Dona Dona\n",
       "[4831] Dona Dona Dona Dona Dona Dona Dona Dona Dona Dona Dona Dona Dona Dona\n",
       "[4845] Dona Dona Dona Dona Dona Dona Dona Dona Dona Dona Dona Dona Dona Dona\n",
       "[4859] Dona Dona Dona Dona Dona Dona Dona Dona Dona Dona Dona Dona Dona Dona\n",
       "[4873] Dona Dona Dona Dona Dona Dona Dona Dona Dona Dona Dona Dona Dona Dona\n",
       "[4887] Dona Dona Dona Dona Dona Dona Dona Dona Dona Dona Dona Dona Dona Dona\n",
       "[4901] Dona Dona Dona Dona Dona Dona Dona Dona Dona Dona Dona Dona Dona Dona\n",
       "[4915] Dona Dona Dona Dona Dona Dona Dona Dona Dona Dona Dona Dona Dona Dona\n",
       "[4929] Dona Dona Dona Dona Dona Dona Dona Dona Dona Dona Dona Dona Dona Dona\n",
       "[4943] Dona Dona Dona Dona Dona Dona Dona Dona Dona Dona Dona Dona Dona Dona\n",
       "[4957] Dona Dona Dona Dona Dona Dona Dona Dona Dona Dona Dona Dona Dona Dona\n",
       "[4971] Dona Dona Dona Dona Dona Dona Dona Dona Dona Dona Dona Dona Dona Dona\n",
       "[4985] Dona Dona Dona Dona Dona Dona Dona Dona Dona Dona Dona Dona Dona Dona\n",
       "[4999] Dona Dona Dona Dona Dona Dona Dona Dona Dona Dona Dona Dona Dona Dona\n",
       "[5013] Dona Dona Dona Dona Dona Dona Dona Dona Dona Dona Dona Dona Dona Dona\n",
       "[5027] Dona Dona Dona Dona Dona Dona Dona Dona Dona Dona Dona Dona Dona Dona\n",
       "[5041] Dona Dona Dona Dona Dona Dona Dona Dona Dona Dona Dona Dona Dona Dona\n",
       "[5055] Dona Dona Dona Dona Dona Dona Dona Dona Dona Dona Dona Dona Dona Dona\n",
       "[5069] Dona Dona Dona Dona Dona Dona Dona Dona Dona Dona Dona Dona Dona Dona\n",
       "[5083] Dona Dona Dona Dona Dona Dona Dona Dona Dona Dona Dona Dona Dona Dona\n",
       "[5097] Dona Dona Dona Dona Dona Dona Dona Dona Dona Dona Dona Dona Dona Dona\n",
       "[5111] Dona Dona Dona Dona Dona Dona Dona Dona Dona Dona Dona Dona Dona Dona\n",
       "[5125] Dona Dona Dona Dona Dona Dona Dona Dona Dona Dona Dona Dona Dona Dona\n",
       "[5139] Dona Dona Dona Dona Dona Dona Dona Dona Dona Dona Dona Dona Dona Dona\n",
       "[5153] Dona Dona Dona Dona Dona Dona Dona Dona Dona Dona Dona Dona Dona Dona\n",
       "[5167] Dona Dona Dona Dona Dona Dona Dona Dona Dona Dona Dona Dona Dona Dona\n",
       "[5181] Dona Dona Dona Dona Dona Dona Dona Dona Dona Dona Dona Dona Dona Dona\n",
       "[5195] Dona Dona Dona Dona Dona Dona Dona Dona Dona Dona Dona Dona Dona Dona\n",
       "[5209] Dona Dona Dona Dona Dona Dona Dona Dona Dona Dona Dona Dona Dona Dona\n",
       "[5223] Dona Dona Dona Dona Dona Dona Dona Dona Dona Dona Dona Dona Dona Dona\n",
       "[5237] Dona Dona Dona Dona Dona Dona Dona Dona Dona Dona Dona Dona Dona Dona\n",
       "[5251] Dona Dona Dona Dona Dona Dona Dona Dona Dona Dona Dona Dona Dona Dona\n",
       "[5265] Dona Dona Dona Dona Dona Dona Dona Dona Dona Dona Dona Dona Dona Dona\n",
       "[5279] Dona Dona Dona Dona Dona Dona Dona Dona Dona Dona Dona Dona Dona Dona\n",
       "[5293] Dona Dona Dona Dona Dona Dona Dona Dona Dona Dona Dona Dona Dona Dona\n",
       "[5307] Dona Dona Dona Dona Dona Dona Dona Dona Dona Dona Dona Dona Dona Dona\n",
       "[5321] Dona Dona Dona Dona Dona Dona Dona Dona Dona Dona Dona Dona Dona Dona\n",
       "[5335] Dona Dona Dona Dona Dona Dona Dona Dona Dona Dona Dona Dona Dona Dona\n",
       "[5349] Dona Dona Dona Dona Dona Dona Dona Dona Dona Dona Dona Dona Dona Dona\n",
       "[5363] Dona Dona Dona Dona Dona Dona Dona Dona Dona Dona Dona Dona Dona Dona\n",
       "[5377] Dona Dona Dona Dona Dona Dona Dona Dona Dona Dona Dona Dona Dona Dona\n",
       "[5391] Dona Dona Dona Dona Dona Dona Dona Dona Dona Dona Dona Dona Dona Dona\n",
       "[5405] Dona Dona Dona Dona Dona Dona Dona Dona Dona Dona Dona Dona Dona Dona\n",
       "[5419] Dona Dona Dona Dona Dona Dona Dona Dona Dona Dona Dona Dona Dona Dona\n",
       "[5433] Dona Dona Dona Dona Dona Dona Dona Dona Dona Dona Dona Dona Dona Dona\n",
       "[5447] Dona Dona Dona Dona Dona Dona Dona Dona Dona Dona Dona Dona Dona Dona\n",
       "[5461] Dona Dona Dona Dona Dona Dona Dona Dona Dona Dona Dona Dona Dona Dona\n",
       "[5475] Dona Dona Dona Dona Dona Dona Dona Dona Dona Dona Dona Dona Dona Dona\n",
       "[5489] Dona Dona Dona Dona Dona Dona Dona Dona Dona Dona Dona Dona Dona Dona\n",
       "[5503] Dona Dona Dona Dona Dona Dona Dona Dona Dona Dona Dona Dona Dona Dona\n",
       "[5517] Dona Dona Dona Dona Dona Dona Dona Dona Dona Dona Dona Dona Dona Dona\n",
       "[5531] Dona Dona Dona Dona Dona Dona Dona Dona Dona Dona Dona Dona Dona Dona\n",
       "[5545] Dona Dona Dona Dona Dona Dona Dona Dona Dona Dona Dona Dona Dona Dona\n",
       "[5559] Dona Dona Dona Dona Dona Dona Dona Dona Dona Dona Dona Dona Dona Dona\n",
       "[5573] Dona Dona Dona Dona Dona Dona Dona Dona Dona Dona Dona Dona Dona Dona\n",
       "[5587] Dona Dona Dona Dona Dona Dona Dona Dona Dona Dona Dona Dona Dona Dona\n",
       "[5601] Dona Dona Dona Dona Dona Dona Dona Dona Dona Dona Dona Dona Dona Dona\n",
       "[5615] Dona Dona Dona Dona Dona Dona Dona Dona Dona Dona Dona Dona Dona Dona\n",
       "[5629] Dona Dona Dona Dona Dona Dona Dona Dona Dona Dona Dona Dona Dona Dona\n",
       "[5643] Dona Dona Dona Dona Dona Dona Dona Dona Dona Dona Dona Dona Dona Dona\n",
       "[5657] Dona Dona Dona Dona Dona Dona Dona Dona Dona Dona Dona Dona Dona Dona\n",
       "[5671] Dona Dona Dona Dona Dona Dona Dona Dona Dona Dona Dona Dona Dona Dona\n",
       "[5685] Dona Dona Dona Dona Dona Dona Dona Dona Dona Dona Dona Dona Dona Dona\n",
       "[5699] Dona Dona Dona Dona Dona Dona Dona Dona Dona Dona Dona Dona Dona Dona\n",
       "[5713] Dona Dona Dona Dona Dona Dona Dona Dona Dona Dona Dona Dona Dona Dona\n",
       "[5727] Dona Dona Dona Dona Dona Dona Dona Dona Dona Dona Dona Dona Dona Dona\n",
       "[5741] Dona Dona Dona Dona Dona Dona Dona Dona Dona Dona Dona Dona Dona Dona\n",
       "[5755] Dona Dona Dona Dona Dona Dona Dona Dona Dona Dona Dona Dona Dona Dona\n",
       "[5769] Dona Dona Dona Dona Dona Dona Dona Dona Dona Dona Dona Dona Dona Dona\n",
       "[5783] Dona Dona Dona Dona Dona Dona Dona Dona Dona Dona Dona Dona Dona Dona\n",
       "[5797] Dona Dona Dona Dona Dona Dona Dona Dona Dona Dona Dona Dona Dona Dona\n",
       "[5811] Dona Dona Dona Dona Dona Dona Dona Dona Dona Dona Dona Dona Dona Dona\n",
       "[5825] Dona Dona Dona Dona Dona Dona Dona Dona Dona Dona Dona Dona Dona Dona\n",
       "[5839] Dona Dona Dona Dona Dona Dona Dona Dona Dona Dona Dona Dona Dona Dona\n",
       "[5853] Dona Dona Dona Dona Dona Dona Dona Dona Dona Dona Dona Dona Dona Dona\n",
       "[5867] Dona Dona Dona Dona Dona Dona Dona Dona Dona Dona Dona Dona Dona Dona\n",
       "[5881] Dona Dona Dona Dona Dona Dona Dona Dona Dona Dona Dona Dona Dona Dona\n",
       "[5895] Dona Dona Dona Dona Dona Dona Dona Dona Dona Dona Dona Dona Dona Dona\n",
       "[5909] Dona Dona Dona Dona Dona Dona Dona Dona Dona Dona Dona Dona Dona Dona\n",
       "[5923] Dona Dona Dona Dona Dona Dona Dona Dona Dona Dona Dona Dona Dona Dona\n",
       "[5937] Dona Dona Dona Dona Dona Dona Dona Dona Dona Dona Dona Dona Dona Dona\n",
       "[5951] Dona Dona Dona Dona Dona Dona Dona Dona Dona Dona Dona Dona Dona Dona\n",
       "[5965] Dona Dona Dona Dona Dona Dona Dona Dona Dona Dona Dona Dona Dona Dona\n",
       "[5979] Dona Dona Dona Dona Dona Dona Dona Dona Dona Dona Dona Dona Dona Dona\n",
       "[5993] Dona Dona Dona Dona Dona Dona Dona Dona Dona Dona Dona Dona Dona Dona\n",
       "[6007] Dona Dona Dona Dona Dona Dona Dona Dona Dona Dona Dona Dona Dona Dona\n",
       "[6021] Dona Dona Dona Dona Dona Dona Dona Dona Dona Dona Dona Dona Dona Dona\n",
       "[6035] Dona Dona Dona Dona Dona Dona Dona Dona Dona Dona Dona Dona Dona Dona\n",
       "[6049] Dona Dona Dona Dona Dona Dona Dona Dona Dona Dona Dona Dona Dona Dona\n",
       "[6063] Dona Dona Dona Dona Dona Dona Dona Dona Dona Dona Dona Dona Dona Dona\n",
       "[6077] Dona Dona Dona Dona Dona Dona Dona Dona Dona Dona Dona Dona Dona Dona\n",
       "[6091] Dona Dona Dona Dona Dona Dona Dona Dona Dona Dona Dona Dona Dona Dona\n",
       "[6105] Dona Dona Dona Dona Dona Dona Dona Dona Dona Dona Dona Dona Dona Dona\n",
       "[6119] Dona Dona Dona Dona Dona Dona Dona Dona Dona Dona Dona Dona Dona Dona\n",
       "[6133] Dona Dona Dona Dona Dona Dona Dona Dona Dona Dona Dona Dona Dona Dona\n",
       "[6147] Dona Dona Dona Dona Dona Dona Dona Dona Dona Dona Dona Dona Dona Dona\n",
       "[6161] Dona Dona Dona Dona Dona Dona Dona Dona Dona Dona Dona Dona Dona Dona\n",
       "[6175] Dona Dona Dona Dona Dona Dona Dona Dona Dona Dona Dona Dona Dona Dona\n",
       "[6189] Dona Dona Dona Dona Dona Dona Dona Dona Dona Dona Dona Dona Dona Dona\n",
       "[6203] Dona Dona Dona Dona Dona Dona Dona Dona Dona Dona Dona Dona Dona Dona\n",
       "[6217] Dona Dona Dona Dona Dona Dona Dona Dona Dona Dona Dona Dona Dona Dona\n",
       "[6231] Dona Dona Dona Dona Dona Dona Dona Dona Dona Dona Dona Dona Dona Dona\n",
       "[6245] Dona Dona Dona Dona Dona Dona Dona Dona Dona Dona Dona Dona Dona Dona\n",
       "[6259] Dona Dona Dona Dona Dona Dona Dona Dona Dona Dona Dona Dona Dona Dona\n",
       "[6273] Dona Dona Dona Dona Dona Dona Dona Dona Dona Dona Dona Dona Dona Dona\n",
       "[6287] Dona Dona Dona Dona Dona Dona Dona Dona Dona Dona Dona Dona Dona Dona\n",
       "[6301] Dona Dona Dona Dona Dona Dona Dona Dona Dona Dona Dona Dona Dona Dona\n",
       "[6315] Dona Dona Dona Dona Dona Dona Dona Dona Dona Dona Dona Dona Dona Dona\n",
       "[6329] Dona Dona Dona Dona Dona Dona Dona Dona Dona Dona Dona Dona Dona Dona\n",
       "[6343] Dona Dona Dona Dona Dona Dona Dona Dona Dona Dona Dona Dona Dona Dona\n",
       "[6357] Dona Dona Dona Dona Dona Dona Dona Dona Dona Dona Dona Dona Dona Dona\n",
       "[6371] Dona Dona Dona Dona Dona Dona Dona Dona Dona Dona Dona Dona Dona Dona\n",
       "[6385] Dona Dona Dona Dona Dona Dona Dona Dona Dona Dona Dona Dona Dona Dona\n",
       "[6399] Dona Dona Dona Dona Dona Dona Dona Dona Dona Dona Dona Dona Dona Dona\n",
       "[6413] Dona Dona Dona Dona Dona Dona Dona Dona Dona Dona Dona Dona Dona Dona\n",
       "[6427] Dona Dona Dona Dona Dona Dona Dona Dona Dona Dona Dona Dona Dona Dona\n",
       "[6441] Dona Dona Dona Dona Dona Dona Dona Dona Dona Dona Dona Dona Dona Dona\n",
       "[6455] Dona Dona Dona Dona Dona Dona Dona Dona Dona Dona Dona Dona Dona Dona\n",
       "[6469] Dona Dona Dona Dona Dona Dona Dona Dona Dona Dona Dona Dona Dona Dona\n",
       "[6483] Dona Dona Dona Dona Dona Dona Dona Dona Dona Dona Dona Dona Dona Dona\n",
       "[6497] Dona Dona Dona Dona Dona Dona Dona Dona Dona Dona Dona Dona Dona Dona\n",
       "[6511] Dona Dona Dona Dona Dona Dona Dona Dona Dona Dona Dona Dona Dona Dona\n",
       "[6525] Dona Dona Dona Dona Dona Dona Dona Dona Dona Dona Dona Dona Dona Dona\n",
       "[6539] Dona Dona Dona Dona Dona Dona Dona Dona Dona Dona Dona Dona Dona Dona\n",
       "[6553] Dona Dona Dona Dona Dona Dona Dona Dona Dona Dona Dona Dona Dona Dona\n",
       "[6567] Dona Dona Dona Dona Dona Dona Dona Dona Dona Dona Dona Dona Dona Dona\n",
       "[6581] Dona Dona Dona Dona Dona Dona Dona Dona Dona Dona Dona Dona Dona Dona\n",
       "[6595] Dona Dona Dona Dona Dona Dona Dona Dona Dona Dona Dona Dona Dona Dona\n",
       "[6609] Dona Dona Dona Dona Dona Dona Dona Dona Dona Dona Dona Dona Dona Dona\n",
       "[6623] Dona Dona Dona Dona Dona Dona Dona Dona Dona Dona Dona Dona Dona Dona\n",
       "[6637] Dona Dona Dona Dona Dona Dona Dona Dona Dona Dona Dona Dona Dona Dona\n",
       "[6651] Dona Dona Dona Dona Dona Dona Dona Dona Dona Dona Dona Dona Dona Dona\n",
       "[6665] Dona Dona Dona Dona Dona Dona Dona Dona Dona Dona Dona Dona Dona Dona\n",
       "[6679] Dona Dona Dona Dona Dona Dona Dona Dona Dona Dona Dona Dona Dona Dona\n",
       "[6693] Dona Dona Dona Dona Dona Dona Dona Dona Dona Dona Dona Dona Dona Dona\n",
       "[6707] Dona Dona Dona Dona Dona Dona Dona Dona Dona Dona Dona Dona Dona Dona\n",
       "[6721] Dona Dona Dona Dona Dona Dona Dona Dona Dona Dona Dona Dona Dona Dona\n",
       "[6735] Dona Dona Dona Dona Dona Dona Dona Dona Dona Dona Dona Dona Dona Dona\n",
       "[6749] Dona Dona Dona Dona Dona Dona Dona Dona Dona Dona Dona Dona Dona Dona\n",
       "[6763] Dona Dona Dona Dona Dona Dona Dona Dona Dona Dona Dona Dona Dona Dona\n",
       "[6777] Dona Dona Dona Dona Dona Dona Dona Dona Dona Dona Dona Dona Dona Dona\n",
       "[6791] Dona Dona Dona Dona Dona Dona Dona Dona Dona Dona Dona Dona Dona Dona\n",
       "[6805] Dona Dona Dona Dona Dona Dona Dona Dona Dona Dona Dona Dona Dona Dona\n",
       "[6819] Dona Dona Dona Dona Dona Dona Dona Dona Dona Dona Dona Dona Dona Dona\n",
       "[6833] Dona Dona Dona Dona Dona Dona Dona Dona Dona Dona Dona Dona Dona Dona\n",
       "[6847] Dona Dona Dona Dona Dona Dona Dona Dona Dona Dona Dona Dona Dona Dona\n",
       "[6861] Dona Dona Dona Dona Dona Dona Dona Dona Dona Dona Dona Dona Dona Dona\n",
       "[6875] Dona Dona Dona Dona Dona Dona Dona Dona Dona Dona Dona Dona Dona Dona\n",
       "[6889] Dona Dona Dona Dona Dona Dona Dona Dona Dona Dona Dona Dona Dona Dona\n",
       "[6903] Dona Dona Dona Dona Dona Dona Dona Dona Dona Dona Dona Dona Dona Dona\n",
       "[6917] Dona Dona Dona Dona Dona Dona Dona Dona Dona Dona Dona Dona Dona Dona\n",
       "[6931] Dona Dona Dona Dona Dona Dona Dona Dona Dona Dona Dona Dona Dona Dona\n",
       "[6945] Dona Dona Dona Dona Dona Dona Dona Dona Dona Dona Dona Dona Dona Dona\n",
       "[6959] Dona Dona Dona Dona Dona Dona Dona Dona Dona Dona Dona Dona Dona Dona\n",
       "[6973] Dona Dona Dona Dona Dona Dona Dona Dona Dona Dona Dona Dona Dona Dona\n",
       "[6987] Dona Dona Dona Dona Dona Dona Dona Dona Dona Dona Dona Dona Dona Dona\n",
       "[7001] Dona Dona Dona Dona Dona Dona Dona Dona Dona Dona Dona Dona Dona Dona\n",
       "[7015] Dona Dona Dona Dona Dona Dona Dona Dona Dona Dona Dona Dona Dona Dona\n",
       "[7029] Dona Dona Dona Dona Dona Dona Dona Dona Dona Dona Dona Dona Dona Dona\n",
       "[7043] Dona Dona Dona Dona Dona Dona Dona Dona Dona Dona Dona Dona Dona Dona\n",
       "[7057] Dona Dona Dona Dona Dona Dona Dona Dona Dona Dona Dona Dona Dona Dona\n",
       "[7071] Dona Dona Dona Dona Dona Dona Dona Dona Dona Dona Dona Dona Dona Dona\n",
       "[7085] Dona Dona Dona Dona Dona Dona Dona Dona Dona Dona Dona Dona Dona Dona\n",
       "[7099] Dona Dona Dona Dona Dona Dona Dona Dona Dona Dona Dona Dona Dona Dona\n",
       "[7113] Dona Dona Dona Dona Dona Dona Dona Dona Dona Dona Dona Dona Dona Dona\n",
       "[7127] Dona Dona Dona Dona Dona Dona Dona Dona Dona Dona Dona Dona Dona Dona\n",
       "[7141] Dona Dona Dona Dona Dona Dona Dona Dona Dona Dona Dona Dona Dona Dona\n",
       "[7155] Dona Dona Dona Dona Dona Dona Dona Dona Dona Dona Dona Dona Dona Dona\n",
       "[7169] Dona Dona Dona Dona Dona Dona Dona Dona Dona Dona Dona Dona Dona Dona\n",
       "[7183] Dona Dona Dona Dona Dona Dona Dona Dona Dona Dona Dona Dona Dona Dona\n",
       "[7197] Dona Dona Dona Dona Dona Dona Dona Dona Dona Dona Dona Dona Dona Dona\n",
       "[7211] Dona Dona Dona Dona Dona Dona Dona Dona Dona Dona Dona Dona Dona Dona\n",
       "[7225] Dona Dona Dona Dona Dona Dona Dona Dona Dona Dona Dona Dona Dona Dona\n",
       "[7239] Dona Dona Dona Dona Dona Dona Dona Dona Dona Dona Dona Dona Dona Dona\n",
       "[7253] Dona Dona Dona Dona Dona Dona Dona Dona Dona Dona Dona Dona Dona Dona\n",
       "[7267] Dona Dona Dona Dona Dona Dona Dona Dona Dona Dona Dona Dona Dona Dona\n",
       "[7281] Dona Dona Dona Dona Dona Dona Dona Dona Dona Dona Dona Dona Dona Dona\n",
       "[7295] Dona Dona Dona Dona Dona Dona Dona Dona Dona Dona Dona Dona Dona Dona\n",
       "[7309] Dona Dona Dona Dona Dona Dona Dona Dona Dona Dona Dona Dona Dona Dona\n",
       "[7323] Dona Dona Dona Dona Dona Dona Dona Dona Dona Dona Dona Dona Dona Dona\n",
       "[7337] Dona Dona Dona Dona Dona Dona Dona Dona Dona Dona Dona Dona Dona Dona\n",
       "[7351] Dona Dona Dona Dona Dona Dona Dona Dona Dona Dona Dona Dona Dona Dona\n",
       "[7365] Dona Dona Dona Dona Dona Dona Dona Dona Dona Dona Dona Dona Dona Dona\n",
       "[7379] Dona Dona Dona Dona Dona Dona Dona Dona Dona Dona Dona Dona Dona Dona\n",
       "[7393] Dona Dona Dona Dona Dona Dona Dona Dona Dona Dona Dona Dona Dona Dona\n",
       "[7407] Dona Dona Dona Dona Dona Dona Dona Dona Dona Dona Dona Dona Dona Dona\n",
       "[7421] Dona Dona Dona Dona Dona Dona Dona Dona Dona Dona Dona Dona Dona Dona\n",
       "[7435] Dona Dona Dona Dona Dona Dona Dona Dona Dona Dona Dona Dona\n",
       "Levels: Home Dona\n"
      ]
     },
     "metadata": {},
     "output_type": "display_data"
    }
   ],
   "source": [
    "%%R\n",
    "n$Sexe"
   ]
  },
  {
   "cell_type": "code",
   "execution_count": 53,
   "metadata": {},
   "outputs": [
    {
     "data": {
      "text/plain": [
       "# A tibble: 50 x 2\n",
       "   Nacionalitat  nationality_counts\n",
       "   <fct>                      <dbl>\n",
       " 1 Itàlia                      1017\n",
       " 2 França                       479\n",
       " 3 Regne Unit                   320\n",
       " 4 Rússia                       215\n",
       " 5 Alemanya                     293\n",
       " 6 Romania                       98\n",
       " 7 Ucraïna                       83\n",
       " 8 Portugal                     124\n",
       " 9 Països Baixos                 99\n",
       "10 Polònia                       81\n",
       "# … with 40 more rows\n"
      ]
     },
     "metadata": {},
     "output_type": "display_data"
    }
   ],
   "source": [
    "%%R\n",
    "\n",
    "new_df <- filter(n, Nom_Barri =='el Poblenou' & Nacionalitat!='Espanya') %>%\n",
    "group_by(Nacionalitat) %>% \n",
    "summarize(nationality_counts = sum(Nombre))\n",
    "\n",
    "\n",
    "\n",
    "new_df"
   ]
  },
  {
   "cell_type": "code",
   "execution_count": 59,
   "metadata": {},
   "outputs": [
    {
     "data": {
      "image/png": "[encoded data removed]"
     },
     "metadata": {},
     "output_type": "display_data"
    }
   ],
   "source": [
    "%%R\n",
    "\n",
    "ggplot(new_df, aes(x=Nacionalitat, y=nationality_counts)) + geom_col() + coord_flip()"
   ]
  },
  {
   "cell_type": "code",
   "execution_count": 68,
   "metadata": {},
   "outputs": [
    {
     "data": {
      "text/plain": [
       "# A tibble: 8 x 2\n",
       "  Nacionalitat          nationality_counts\n",
       "  <fct>                              <dbl>\n",
       "1 Itàlia                              1017\n",
       "2 França                               479\n",
       "3 Regne Unit                           320\n",
       "4 Rússia                               215\n",
       "5 Alemanya                             293\n",
       "6 Resta països d'Europa                323\n",
       "7 Xina                                 395\n",
       "8 Pakistan                             359\n"
      ]
     },
     "metadata": {},
     "output_type": "display_data"
    }
   ],
   "source": [
    "%%R\n",
    "cutoff_df <-  filter(new_df, nationality_counts > 200)\n",
    "\n",
    "\n",
    "cutoff_df"
   ]
  },
  {
   "cell_type": "code",
   "execution_count": 72,
   "metadata": {},
   "outputs": [
    {
     "data": {
      "image/png": "[encoded data removed]"
     },
     "metadata": {},
     "output_type": "display_data"
    }
   ],
   "source": [
    "%%R\n",
    "ggplot(cutoff_df, aes(x=Nacionalitat, y=nationality_counts)) + geom_col() + coord_flip()"
   ]
  },
  {
   "cell_type": "code",
   "execution_count": 76,
   "metadata": {},
   "outputs": [
    {
     "data": {
      "text/plain": [
       "# A tibble: 6 x 3\n",
       "# Groups:   Nacionalitat [4]\n",
       "  Nacionalitat Sexe  nationality_counts\n",
       "  <fct>        <fct>              <dbl>\n",
       "1 Itàlia       Home                 526\n",
       "2 Itàlia       Dona                 491\n",
       "3 França       Home                 235\n",
       "4 França       Dona                 244\n",
       "5 Xina         Dona                 205\n",
       "6 Pakistan     Home                 257\n"
      ]
     },
     "metadata": {},
     "output_type": "display_data"
    }
   ],
   "source": [
    "%%R\n",
    "\n",
    "final_df <- filter(n, Nom_Barri =='el Poblenou' & Nacionalitat!='Espanya') %>%\n",
    "group_by(Nacionalitat, Sexe) %>% \n",
    "summarize(nationality_counts = sum(Nombre)) %>%\n",
    "filter( nationality_counts > 200)\n",
    "\n",
    "\n",
    "\n",
    "final_df\n",
    "#with colour as sex\n"
   ]
  },
  {
   "cell_type": "code",
   "execution_count": 78,
   "metadata": {},
   "outputs": [
    {
     "data": {
      "image/png": "[encoded data removed]"
     },
     "metadata": {},
     "output_type": "display_data"
    }
   ],
   "source": [
    "%%R\n",
    "ggplot(final_df, aes(x=Nacionalitat, y=nationality_counts, color=Sexe))"
   ]
  },
  {
   "cell_type": "markdown",
   "metadata": {
    "ein.tags": "worksheet-0",
    "slideshow": {
     "slide_type": "-"
    }
   },
   "source": [
    "# Problem 3: Classes in Python"
   ]
  },
  {
   "cell_type": "code",
   "execution_count": null,
   "metadata": {
    "autoscroll": false,
    "ein.tags": "worksheet-0",
    "slideshow": {
     "slide_type": "-"
    }
   },
   "outputs": [],
   "source": [
    "# Create a class called \"RandomClassifier\". \n",
    "\n",
    "# It's constructor should have one required parameter: 'probability'\n",
    "\n",
    "# It should have one instance method, 'predict'\n",
    "\n",
    "# The predict method should take one required parameter: 'x'\n",
    "\n",
    "# The predict method should then randomly return a 1 or 0. It should return a 1\n",
    "# with the probability given in the parameter\n",
    "\n",
    "# The following cell has a test that should pass if you've done it correctly!"
   ]
  },
  {
   "cell_type": "code",
   "execution_count": null,
   "metadata": {
    "autoscroll": false,
    "ein.tags": "worksheet-0",
    "slideshow": {
     "slide_type": "-"
    }
   },
   "outputs": [],
   "source": [
    "import numpy as np\n",
    "\n",
    "r = RandomClassifier(probability = .2)\n",
    "m = np.mean([r.predict(x = i) for i in np.arange(100000)])\n",
    "\n",
    "np.testing.assert_approx_equal(m, 0.2, 2)"
   ]
  },
  {
   "cell_type": "markdown",
   "metadata": {
    "ein.tags": "worksheet-0",
    "slideshow": {
     "slide_type": "-"
    }
   },
   "source": [
    "# Problem 4: Some Theory"
   ]
  },
  {
   "cell_type": "markdown",
   "metadata": {
    "ein.tags": "worksheet-0",
    "slideshow": {
     "slide_type": "-"
    }
   },
   "source": [
    "### What are pure functions and what are their strengths? (2-3 lines)"
   ]
  },
  {
   "cell_type": "markdown",
   "metadata": {
    "ein.tags": "worksheet-0",
    "slideshow": {
     "slide_type": "-"
    }
   },
   "source": []
  },
  {
   "cell_type": "markdown",
   "metadata": {
    "ein.tags": "worksheet-0",
    "slideshow": {
     "slide_type": "-"
    }
   },
   "source": [
    "### What is lazy evaluation and when might you use it? (2-3 lines)"
   ]
  },
  {
   "cell_type": "markdown",
   "metadata": {
    "ein.tags": "worksheet-0",
    "slideshow": {
     "slide_type": "-"
    }
   },
   "source": []
  }
 ],
 "metadata": {
  "kernelspec": {
   "display_name": "Python 3",
   "language": "python",
   "name": "python3"
  },
  "language_info": {
   "codemirror_mode": {
    "name": "ipython",
    "version": 3
   },
   "file_extension": ".py",
   "mimetype": "text/x-python",
   "name": "python",
   "nbconvert_exporter": "python",
   "pygments_lexer": "ipython3",
   "version": "3.7.3"
  },
  "name": "exam.ipynb"
 },
 "nbformat": 4,
 "nbformat_minor": 2
}
